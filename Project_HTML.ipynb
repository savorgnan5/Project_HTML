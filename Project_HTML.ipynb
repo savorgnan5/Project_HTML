{
 "cells": [
  {
   "cell_type": "code",
   "execution_count": null,
   "metadata": {},
   "outputs": [],
   "source": [
    "# Import Splinter and BeautifulSoup\n",
    "from splinter import Browser\n",
    "from bs4 import BeautifulSoup\n",
    "%matplotlib inline\n",
    "import matplotlib.pyplot as plt"
   ]
  },
  {
   "cell_type": "code",
   "execution_count": null,
   "metadata": {},
   "outputs": [],
   "source": [
    "# Path to chromedriver\n",
    "!which chromedriver"
   ]
  },
  {
   "cell_type": "code",
   "execution_count": null,
   "metadata": {},
   "outputs": [],
   "source": [
    "# Set the executable path and initialize the chrome browser in splinter\n",
    "executable_path = {'executable_path': '/usr/local/bin/chromedriver'}\n",
    "browser = Browser('chrome', **executable_path)"
   ]
  },
  {
   "cell_type": "code",
   "execution_count": null,
   "metadata": {},
   "outputs": [],
   "source": [
    "# Visit the mars nasa news site\n",
    "url = 'https://clinicaltrials.gov/ct2/results?cond=Cardiac+Defect&term=&cntry=&state=&city=&dist=&rslt=With&type=Intr&age=0'\n",
    "browser.visit(url)\n"
   ]
  },
  {
   "cell_type": "code",
   "execution_count": null,
   "metadata": {},
   "outputs": [],
   "source": [
    "datas = []\n",
    "url1 = \"https://clinicaltrials.gov/ct2/results?cond=Cardiac+Defect&term=&cntry=&state=&city=&dist=&rslt=With&type=Intr&age=0\"\n",
    "browser.visit(url1)\n",
    "table_length_elem = browser.find_by_name('theDataTable_length').first.click()\n",
    "browser.select(\"theDataTable_length\",\"50\")\n",
    "html = browser.html\n",
    "soup = BeautifulSoup(html, 'html.parser')\n",
    "table = soup.find('table', attrs={'class':'stripe row-border compact dataTable no-footer dtr-column'})\n",
    "table_body = table.find('tbody')\n",
    "rows = table_body.find_all('tr')\n",
    "for row in rows:\n",
    "    cols = row.find_all('td')\n",
    "    cols = [ele.text.strip() for ele in cols]\n",
    "    datas.append([ele for ele in cols if ele])\n",
    "datas"
   ]
  },
  {
   "cell_type": "code",
   "execution_count": null,
   "metadata": {},
   "outputs": [],
   "source": [
    "datas[0]"
   ]
  },
  {
   "cell_type": "code",
   "execution_count": null,
   "metadata": {},
   "outputs": [],
   "source": [
    "my_dict = [\"index\",\"Status\", \"Study_Title\", \"Conditions\",\"Intervention\", \"Locations\"] \n",
    "temp=[]\n",
    "for data in datas:\n",
    "    new_dict = {}\n",
    "    for x in range(len(data)):\n",
    "        new_dict[my_dict[x]] = data[x]\n",
    "    temp.append(new_dict)\n",
    "temp"
   ]
  },
  {
   "cell_type": "code",
   "execution_count": null,
   "metadata": {},
   "outputs": [],
   "source": [
    "import pandas as pd\n",
    "df = pd.DataFrame(temp)\n",
    "df.head()"
   ]
  },
  {
   "cell_type": "code",
   "execution_count": null,
   "metadata": {},
   "outputs": [],
   "source": [
    "top_used = pd.read_csv(\"top200.csv\")\n",
    "top_used[\"index\"] = df[\"index\"]\n",
    "top_used.head()"
   ]
  },
  {
   "cell_type": "code",
   "execution_count": null,
   "metadata": {},
   "outputs": [],
   "source": [
    "combined = pd.merge( df, top_used, how=\"left\", on=[\"index\", \"index\"])\n",
    "combined.head()"
   ]
  },
  {
   "cell_type": "code",
   "execution_count": null,
   "metadata": {},
   "outputs": [],
   "source": [
    "con_df = combined[['Intervention','Locations']]\n",
    "con_df.head()"
   ]
  },
  {
   "cell_type": "code",
   "execution_count": null,
   "metadata": {},
   "outputs": [],
   "source": [
    "#The most frequent investigated drug is Dexmedetomidine\n",
    "total_inter = con_df.groupby('Intervention')['Locations'].count()\n",
    "ax = total_inter.plot.bar()\n",
    "ax.set_ylabel(\"Number\")\n",
    "ax.set_title(\"Number of Intervention by Location\")"
   ]
  },
  {
   "cell_type": "code",
   "execution_count": null,
   "metadata": {},
   "outputs": [],
   "source": [
    "#Lisinopril is the most frequent prescribed drug\n",
    "drug_df = combined[['DRUG_NAME','NUMBER_PRESCRIPTIONS']]\n",
    "total_drug = drug_df.groupby('DRUG_NAME')['NUMBER_PRESCRIPTIONS'].sum()\n",
    "ax = total_drug.plot.bar()\n",
    "ax.set_ylabel(\"total PRESCRIPTIONS number\")\n",
    "ax.set_title(\"total PRESCRIPTIONS number\")"
   ]
  },
  {
   "cell_type": "code",
   "execution_count": null,
   "metadata": {},
   "outputs": [],
   "source": [
    "#Dexmedetomidine the most frequent investigated drug is not found in the top 200 prescribed drugs\n",
    "dex = top_used.loc[top_used[\"DRUG_NAME\"]==\"DEXMEDETOMIDINE\", ]\n",
    "dex"
   ]
  },
  {
   "cell_type": "code",
   "execution_count": 106,
   "metadata": {},
   "outputs": [
    {
     "data": {
      "text/plain": [
       "\"Texas Children's HospitalHouston, Texas, United States\""
      ]
     },
     "execution_count": 106,
     "metadata": {},
     "output_type": "execute_result"
    }
   ],
   "source": [
    "#Texas Children Hospital is the institution that conduct the most clinical trial as solo institution.\n",
    "drug_df = combined[[\"Locations\"]]\n",
    "combined[\"Locations\"].value_counts().idxmax() "
   ]
  },
  {
   "cell_type": "code",
   "execution_count": null,
   "metadata": {},
   "outputs": [],
   "source": []
  },
  {
   "cell_type": "code",
   "execution_count": null,
   "metadata": {},
   "outputs": [],
   "source": []
  }
 ],
 "metadata": {
  "kernelspec": {
   "display_name": "Python 3",
   "language": "python",
   "name": "python3"
  },
  "language_info": {
   "codemirror_mode": {
    "name": "ipython",
    "version": 3
   },
   "file_extension": ".py",
   "mimetype": "text/x-python",
   "name": "python",
   "nbconvert_exporter": "python",
   "pygments_lexer": "ipython3",
   "version": "3.7.2"
  }
 },
 "nbformat": 4,
 "nbformat_minor": 2
}
